{
  "nbformat": 4,
  "nbformat_minor": 0,
  "metadata": {
    "colab": {
      "provenance": [],
      "authorship_tag": "ABX9TyM2KFO2yhDiOBzQdH669Tpk",
      "include_colab_link": true
    },
    "kernelspec": {
      "name": "python3",
      "display_name": "Python 3"
    },
    "language_info": {
      "name": "python"
    }
  },
  "cells": [
    {
      "cell_type": "markdown",
      "metadata": {
        "id": "view-in-github",
        "colab_type": "text"
      },
      "source": [
        "<a href=\"https://colab.research.google.com/github/Vijayvj1/ANN/blob/master/Trilaterate.ipynb\" target=\"_parent\"><img src=\"https://colab.research.google.com/assets/colab-badge.svg\" alt=\"Open In Colab\"/></a>"
      ]
    },
    {
      "cell_type": "code",
      "execution_count": 10,
      "metadata": {
        "id": "A1QeI6LY-Y8B"
      },
      "outputs": [],
      "source": [
        "from __future__ import division\n",
        "import json\n",
        "import math\n",
        "from json import encoder\n",
        "encoder.FLOAT_REPR = lambda o: format(o, '.2f')\n",
        "\n",
        "class base_station(object):\n",
        "    def __init__(self, lat, lon, dist):\n",
        "        self.lat = lat\n",
        "        self.lon = lon\n",
        "        self.dist = dist\n",
        "\n",
        "class point(object):\n",
        "    def __init__(self, x, y):\n",
        "        self.x = x\n",
        "        self.y = y\n",
        "\n",
        "class circle(object):\n",
        "    def __init__(self, point, radius):\n",
        "        self.center = point\n",
        "        self.radius = radius\n",
        "\n",
        "class json_data(object):\n",
        "    def __init__(self, circles, inner_points, center):\n",
        "        self.circles = circles\n",
        "        self.inner_points = inner_points\n",
        "        self.center = center\n",
        "\n",
        "def serialize_instance(obj):\n",
        "    d = {}\n",
        "    d.update(vars(obj))\n",
        "    return d\n",
        "\n",
        "def get_two_points_distance(p1, p2):\n",
        "    return math.sqrt(pow((p1.x - p2.x), 2) + pow((p1.y - p2.y), 2))\n",
        "\n",
        "def get_two_circles_intersecting_points(c1, c2):\n",
        "    p1 = c1.center\n",
        "    p2 = c2.center\n",
        "    r1 = c1.radius\n",
        "    r2 = c2.radius\n",
        "\n",
        "    d = get_two_points_distance(p1, p2)\n",
        "    # if to far away, or self contained - can't be done\n",
        "    if d >= (r1 + r2) or d <= math.fabs(r1 -r2):\n",
        "        return None\n",
        "\n",
        "    a = (pow(r1, 2) - pow(r2, 2) + pow(d, 2)) / (2*d)\n",
        "    h  = math.sqrt(pow(r1, 2) - pow(a, 2))\n",
        "    x0 = p1.x + a*(p2.x - p1.x)/d\n",
        "    y0 = p1.y + a*(p2.y - p1.y)/d\n",
        "    rx = -(p2.y - p1.y) * (h/d)\n",
        "    ry = -(p2.x - p1.x) * (h / d)\n",
        "    return [point(x0+rx, y0-ry), point(x0-rx, y0+ry)]\n",
        "\n",
        "def get_all_intersecting_points(circles):\n",
        "    points = []\n",
        "    num = len(circles)\n",
        "    for i in range(num):\n",
        "        j = i + 1\n",
        "        for k in range(j, num):\n",
        "            res = get_two_circles_intersecting_points(circles[i], circles[k])\n",
        "            if res:\n",
        "                points.extend(res)\n",
        "    return points\n",
        "\n",
        "def is_contained_in_circles(point, circles):\n",
        "    for i in range(len(circles)):\n",
        "        if (get_two_points_distance(point, circles[i].center) > (circles[i].radius)):\n",
        "            return False\n",
        "    return True\n",
        "\n",
        "def get_polygon_center(points):\n",
        "    center = point(0, 0)\n",
        "    num = len(points)\n",
        "    for i in range(num):\n",
        "        center.x += points[i].x\n",
        "        center.y += points[i].y\n",
        "    center.x /= num\n",
        "    center.y /= num\n",
        "    return center\n",
        "\n",
        "if __name__ == '__main__' :\n",
        "\n",
        "    p1 = point(2,4)\n",
        "    p2 = point(2.1606,2.2781)\n",
        "    p3 = point(2.0449,6.80702)\n",
        "\n",
        "    c1 = circle(p1, 0.742)\n",
        "    c2 = circle(p2, 2.17)\n",
        "    c3 = circle(p3, 2.89299)\n",
        "\n",
        "    circle_list = [c1, c2, c3]\n",
        "\n",
        "    inner_points = []\n",
        "    for p in get_all_intersecting_points(circle_list):\n",
        "        if is_contained_in_circles(p, circle_list):\n",
        "            inner_points.append(p)\n",
        "\n",
        "    center = get_polygon_center(inner_points)\n",
        "    in_json = json_data([c1, c2, c3], [p1, p2, p3], center)\n",
        "\n",
        "    out_json = json.dumps(in_json, sort_keys=True,\n",
        "                     indent=4, default=serialize_instance)\n",
        "\n",
        "    with open(\"data.json\", 'w') as fw:\n",
        "        fw.write(out_json)"
      ]
    },
    {
      "cell_type": "code",
      "source": [
        "out_json"
      ],
      "metadata": {
        "colab": {
          "base_uri": "https://localhost:8080/",
          "height": 163
        },
        "id": "byz85j_4-aZh",
        "outputId": "d2dbe839-14db-48bd-b0c0-bf98a1738478"
      },
      "execution_count": 7,
      "outputs": [
        {
          "output_type": "execute_result",
          "data": {
            "text/plain": [
              "'{\\n    \"center\": {\\n        \"x\": 3.461074790398441,\\n        \"y\": 5.212386791151551\\n    },\\n    \"circles\": [\\n        {\\n            \"center\": {\\n                \"x\": 1.76,\\n                \"y\": 5.43\\n            },\\n            \"radius\": 1.7182549286994637\\n        },\\n        {\\n            \"center\": {\\n                \"x\": 4.46,\\n                \"y\": 7.11\\n            },\\n            \"radius\": 2.1444812892632106\\n        },\\n        {\\n            \"center\": {\\n                \"x\": 3.78,\\n                \"y\": 3.79\\n            },\\n            \"radius\": 1.46\\n        }\\n    ],\\n    \"inner_points\": [\\n        {\\n            \"x\": 1.76,\\n            \"y\": 5.43\\n        },\\n        {\\n            \"x\": 4.46,\\n            \"y\": 7.11\\n        },\\n        {\\n            \"x\": 3.78,\\n            \"y\": 3.79\\n        }\\n    ]\\n}'"
            ],
            "application/vnd.google.colaboratory.intrinsic+json": {
              "type": "string"
            }
          },
          "metadata": {},
          "execution_count": 7
        }
      ]
    },
    {
      "cell_type": "code",
      "source": [],
      "metadata": {
        "id": "bYvM8usa-i9e"
      },
      "execution_count": null,
      "outputs": []
    }
  ]
}